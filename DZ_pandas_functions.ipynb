{
  "nbformat": 4,
  "nbformat_minor": 0,
  "metadata": {
    "colab": {
      "name": "pandas_functions.ipynb",
      "provenance": []
    },
    "kernelspec": {
      "name": "python3",
      "display_name": "Python 3"
    },
    "language_info": {
      "name": "python"
    }
  },
  "cells": [
    {
      "cell_type": "code",
      "source": [
        "#Задание 1**\n",
        "#Напишите функцию, которая классифицирует фильмы из материалов занятия по следующим правилам:\n",
        "#- оценка 2 и меньше - низкий рейтинг\n",
        "#- оценка 4 и меньше - средний рейтинг\n",
        "#- оценка 4.5 и 5 - высокий рейтинг\n",
        "\n",
        "#Результат классификации запишите в столбец class\n",
        "\n",
        "films = pd.read_csv('/Users/lvkb97/Downloads/ml-latest-small/movies.csv')\n",
        "raiting = pd.read_csv('/Users/lvkb97/Downloads/ml-latest-small/ratings.csv')\n",
        "films_with_rating = films.merge(raiting, on = 'movieId')\n",
        "\n",
        "def classificator(row):\n",
        "    if row <= 2:\n",
        "        return 'низкий рейтинг'\n",
        "    elif (row > 2) and (row <= 4):\n",
        "        return 'средний рейтинг'\n",
        "    elif (row == 4.5) or (row == 5.0):\n",
        "        return 'высокий рейтинг'\n",
        "    \n",
        "\n",
        "films_with_rating['class'] = films_with_rating['rating'].apply(classificator)\n",
        "films_with_rating"
      ],
      "metadata": {
        "id": "b1Y3_PL8GQVs"
      },
      "execution_count": null,
      "outputs": []
    },
    {
      "cell_type": "code",
      "execution_count": null,
      "metadata": {
        "id": "8g8iCxfBGFHK"
      },
      "outputs": [],
      "source": [
        "#Задание 2\n",
        "#Используем файл keywords.csv.\n",
        "#Необходимо написать гео-классификатор, который каждой строке сможет выставить географическую принадлежность определенному региону. \n",
        "#Т. е. если поисковый запрос содержит название города региона, то в столбце ‘region’ пишется название этого региона. \n",
        "#Если поисковый запрос не содержит названия города, то ставим ‘undefined’.\n",
        "\n",
        "#Правила распределения по регионам Центр, Северо-Запад и Дальний Восток:\n",
        "\n",
        "geo_data = {\n",
        "'Центр': ['москва', 'тула', 'ярославль'],\n",
        "'Северо-Запад': ['петербург', 'псков', 'мурманск'],\n",
        "'Дальний Восток': ['владивосток', 'сахалин', 'хабаровск']\n",
        "}\n",
        "#Результат классификации запишите в отдельный столбец region.\n",
        "\n",
        "\n",
        "keywords = pd.read_csv('/Users/lvkb97/Downloads/ml-latest-small/keywords.csv')\n",
        "\n",
        "\n",
        "list_of_cities = []\n",
        "for value in geo_data.values():\n",
        "    list_of_cities.extend(value)\n",
        "\n",
        "\n",
        "def geo_classifier(keyword):\n",
        "    keyword_list = keyword.split(' ')\n",
        "    for word in keyword_list:\n",
        "        if word in list_of_cities:\n",
        "            for key, value in geo_data.items():\n",
        "                if word in value:\n",
        "                    return key\n",
        "        else:\n",
        "            return 'undefined'\n",
        "\n",
        "keywords['region'] = keywords['keyword'].apply(geo_classifier)"
      ]
    }
  ]
}
