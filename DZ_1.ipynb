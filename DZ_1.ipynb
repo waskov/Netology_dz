{
  "nbformat": 4,
  "nbformat_minor": 0,
  "metadata": {
    "colab": {
      "name": "DZ_1.ipynb",
      "provenance": [],
      "collapsed_sections": [],
      "authorship_tag": "ABX9TyP8DL9G5H4HilAQXfUKdi71"
    },
    "kernelspec": {
      "name": "python3",
      "display_name": "Python 3"
    },
    "language_info": {
      "name": "python"
    }
  },
  "cells": [
    {
      "cell_type": "code",
      "execution_count": null,
      "metadata": {
        "id": "XgE0PiBTcGq-"
      },
      "outputs": [],
      "source": [
        ""
      ]
    },
    {
      "cell_type": "code",
      "source": [
        "\n",
        "#Задание 1\n",
        "#Даны 2 переменных, в которых хранятся строки произвольной длины: phrase_1 и phrase_2.\n",
        "#Напишите код, который проверяет какая из этих строк длиннее.\n",
        "\n",
        "phrase_1 = 'Насколько проще было бы писать программы, если бы не заказчики'\n",
        "phrase_2 = '640Кб должно хватить для любых задач. Билл Гейтс (по легенде)'\n",
        "if len(phrase_1)>len(phrase_2):\n",
        "  print('Фраза 1 длиннее фразы 2')\n",
        "elif len(phrase_1)<len(phrase_2):\n",
        "  print('Фраза 2 длиннее фразы 1')\n",
        "else:\n",
        "  print('Длина фраз одинаковая')"
      ],
      "metadata": {
        "colab": {
          "base_uri": "https://localhost:8080/"
        },
        "id": "U92unzHEdJAS",
        "outputId": "1f0d76b3-fabb-4b3d-ffd5-df61625bfbbf"
      },
      "execution_count": null,
      "outputs": [
        {
          "output_type": "stream",
          "name": "stdout",
          "text": [
            "Фраза 1 длиннее фразы 2\n"
          ]
        }
      ]
    },
    {
      "cell_type": "code",
      "source": [
        "#Задание 2\n",
        "#Дана переменная, в которой хранится число (год). Необходимо написать программу, которая выведет, является ли данный год високосным или обычным.\n",
        "\n",
        "#Год високосный, если он делится на четыре без остатка, но если он делится на 100 без остатка, это не високосный год. \n",
        "#Однако, если он делится без остатка на 400, это високосный год. Таким образом, 2000 г. является особым високосным годом, который бывает лишь раз в 400 лет.\n",
        "def check_year (year):\n",
        "  print(year)\n",
        "\n",
        "  if year % 4 == 0:\n",
        "    if year % 100 == 0:\n",
        "      if year % 400 == 0:\n",
        "        print('Високосный год')\n",
        "      else:\n",
        "        print('Обычный год')\n",
        "    else:\n",
        "        print('Високосный год')\n",
        "    \n",
        "  else:\n",
        "    print('Обычный год')\n",
        "\n",
        "check_year(2000)\n",
        "check_year(2001)\n",
        "check_year(2004)\n",
        "check_year(2100)"
      ],
      "metadata": {
        "colab": {
          "base_uri": "https://localhost:8080/"
        },
        "id": "jA1g87cIcVQf",
        "outputId": "3895fb27-d76b-4a79-8aa3-451fc6f810a1"
      },
      "execution_count": null,
      "outputs": [
        {
          "output_type": "stream",
          "name": "stdout",
          "text": [
            "2000\n",
            "Високосный год\n",
            "2001\n",
            "Обычный год\n",
            "2004\n",
            "Високосный год\n",
            "2100\n",
            "Обычный год\n"
          ]
        }
      ]
    },
    {
      "cell_type": "code",
      "source": [
        "#Задание 3\n",
        "#Необходимо написать программу, которая будет запрашивать у пользователя месяц и дату рождения и выводить соответствующий знак зодиака.\n",
        "\n",
        "date=int(input(\"Введите день :\"))\n",
        "\n",
        "month=input(\"Введите месяц :\")\n",
        "\n",
        "\n",
        "\n",
        "\n",
        "if (date>=21 and date<=31 and month=='март') or( month=='апрель' and date>=1 and date<=19):\n",
        "\n",
        "   print(\"Знак зодиака:Овен\")\n",
        "\n",
        "elif (date>=20 and date<=30 and month=='апрель') or( month=='май' and date>=1 and date<=20):\n",
        "\n",
        "   print(\"Знак зодиака:Телец\")\n",
        "\n",
        "elif (date>=21 and date<=31 and month=='май') or( month=='июнь' and date>=1 and date<=21):\n",
        "\n",
        "   print(\"Знак зодиака:Близнецы\")\n",
        "\n",
        "elif (date>=22 and date<=30 and month=='июнь') or( month=='июль' and date>=1 and date<=22):\n",
        "\n",
        "   print(\"Знак зодиака:Рак\")\n",
        "\n",
        "elif (date>=23 and date<=31 and month=='июль') or( month=='август' and date>=1 and date<=22):\n",
        "\n",
        "   print(\"Знак зодиака:Лев\")\n",
        "\n",
        "elif (date>=23 and date<=31 and month=='август') or( month=='сентябрь' and date>=1 and date<=22):\n",
        "\n",
        "   print(\"Знак зодиака:Дева\")\n",
        "\n",
        "elif (date>=23 and date<=30 and month=='сентябрь') or( month=='октябрь' and date>=1 and date<=23):\n",
        "\n",
        "   print(\"Знак зодиака:Весы\")\n",
        "\n",
        "elif (date>=24 and date<=31 and month=='октябрь') or( month=='ноябрь' and date>=1 and date<=22):\n",
        "\n",
        "   print(\"Знак зодиака:Скорпион\")\n",
        "\n",
        "elif (date>=23 and date<=30 and month=='ноябрь') or( month=='декабрь' and date>=1 and date<=21):\n",
        "\n",
        "   print(\"Знак зодиака:Стрелец\")\n",
        "\n",
        "elif (date>=22 and date<=31 and month=='декабрь') or( month=='январь' and date>=1 and date<=20):\n",
        "\n",
        "   print(\"Знак зодиака:Козерог\")\n",
        "\n",
        "elif (date>=21 and date<=31 and month=='январь') or( month=='февраль' and date>=1 and date<=18):\n",
        "\n",
        "   print(\"Знак зодиака:Водолей\")\n",
        "\n",
        "elif (date>=19 and date<=29 and month=='февраль') or( month=='март' and date>=1 and date<=20):\n",
        "\n",
        "   print(\"Знак зодиака:Рыбы\")\n"
      ],
      "metadata": {
        "colab": {
          "base_uri": "https://localhost:8080/"
        },
        "id": "okFehkpfdUQP",
        "outputId": "7f3ee46d-c948-4a99-98c0-dd295ecad032"
      },
      "execution_count": null,
      "outputs": [
        {
          "output_type": "stream",
          "name": "stdout",
          "text": [
            "Введите день :1\n",
            "Введите месяц :февраль\n",
            "Знак зодиака:Водолей\n"
          ]
        }
      ]
    },
    {
      "cell_type": "code",
      "source": [
        "#Задание 4\n",
        "#Вам нужно написать программу для подбора упаковок по размерам товара. Размеры (ширина, длина, высота) хранятся в переменных (в сантиметрах):\n",
        "\n",
        "#Используйте следующие правила:\n",
        "\n",
        "#если каждое из трех измерений менее или равно 15 сантиметрам, то выведите на экран \"Коробка №1\";\n",
        "#если хотя бы одно из измерений больше 15 сантиметров, но менее 50 сантиметров, то выводите \"Коробка №2\";\n",
        "#если длина товара больше 2 метров, то выводите \"Упаковка для лыж\";\n",
        "#во всех остальных случаях выводите \"Стандартная коробка №3\".\n",
        "\n",
        "\n",
        "width = 14\n",
        "length = 49\n",
        "height = 14\n",
        "\n",
        "if width<=15 and length<=15 and height<=15:\n",
        "  print(\"Коробка №1\")\n",
        "elif (width>15 or length>15 or height>15) and (width<50 and length<50 and height<50):\n",
        "  print(\"Коробка №2\")\n",
        "elif width>200:\n",
        "  print(\"Упаковка для лыж\")\n",
        "else:\n",
        "  print(\"Стандартная коробка №3\")"
      ],
      "metadata": {
        "colab": {
          "base_uri": "https://localhost:8080/"
        },
        "id": "gOn7JoWzdUSy",
        "outputId": "07de73ac-724c-49ff-ac44-2c716b1093d0"
      },
      "execution_count": null,
      "outputs": [
        {
          "output_type": "stream",
          "name": "stdout",
          "text": [
            "Коробка №2\n"
          ]
        }
      ]
    },
    {
      "cell_type": "code",
      "source": [
        "#Задание 5 (необязательное)\n",
        "#Дана переменная, в которой хранится шестизначное число (номер проездного билета). \n",
        "#Напишите программу, которая будет определять, является ли данный билет \"счастливым\". Билет считается счастливым, если сумма первых трех цифр совпадает с суммой последних трех цифр номера.\n",
        "\n",
        "\n",
        "\n",
        "ticket = '123312'\n",
        "if sum(list(map(lambda x: int(x),list(ticket[0:3])))) == sum(list(map(lambda x: int(x),list(ticket[3:])))):\n",
        "  print('Счастливый билет')\n",
        "else:\n",
        "  print('Несчастливый билет')"
      ],
      "metadata": {
        "colab": {
          "base_uri": "https://localhost:8080/"
        },
        "id": "bfj3rYAPdUVc",
        "outputId": "99b0ac9f-ad37-43dc-b6f0-98e4c202fbf8"
      },
      "execution_count": null,
      "outputs": [
        {
          "output_type": "stream",
          "name": "stdout",
          "text": [
            "Счастливый билет\n"
          ]
        }
      ]
    },
    {
      "cell_type": "code",
      "source": [
        "#Задание 6 (необязательное)\n",
        "#Напишите программу, которая сможет вычислять площади трех фигур (круг, треугольник и прямоугольник). Тип фигуры запрашиваем через пользовательский ввод, после чего делаем запрос характеристик фигуры:\n",
        "\n",
        "#если пользователь выбрал круг, запрашиваем его радиус,\n",
        "#если треугольник – длины трех его сторон;\n",
        "#если прямоугольник – длины двух его сторон.\n",
        "\n",
        "figure = input ('Введите фигуру (круг, треугольник или прямоугольник)')\n",
        "if figure == 'круг':\n",
        "  r = int(input('радиус'))\n",
        "  s = 3.14*r**2\n",
        "elif figure == 'треугольник':\n",
        "  a = int(input('сторона 1 '))\n",
        "  b = int(input('сторона 2 '))\n",
        "  c = int(input('сторона 3 '))\n",
        "  p = (a + b + c) / 2\n",
        "  s = (p*(p - a)*(p - b)*(p - c))**(0.5)   \n",
        "elif figure == 'прямоугольник':\n",
        "  a = int(input('длина '))\n",
        "  b = int(input('ширина '))\n",
        "  s = a*b\n",
        "\n",
        "print(s)\n"
      ],
      "metadata": {
        "colab": {
          "base_uri": "https://localhost:8080/"
        },
        "id": "ld3tom_tdUYE",
        "outputId": "53f100aa-de9a-4c9b-b29e-071a4a56acef"
      },
      "execution_count": null,
      "outputs": [
        {
          "output_type": "stream",
          "name": "stdout",
          "text": [
            "Введите фигуру (круг, треугольник или прямоугольник)треугольник\n",
            "сторона 1 3\n",
            "сторона 2 4\n",
            "сторона 3 5\n",
            "6.0\n"
          ]
        }
      ]
    },
    {
      "cell_type": "code",
      "source": [
        ""
      ],
      "metadata": {
        "id": "fy9ZAv9-dUaY"
      },
      "execution_count": null,
      "outputs": []
    },
    {
      "cell_type": "code",
      "source": [
        ""
      ],
      "metadata": {
        "id": "vk49vAQedUdC"
      },
      "execution_count": null,
      "outputs": []
    },
    {
      "cell_type": "code",
      "source": [
        ""
      ],
      "metadata": {
        "id": "aWDDu8HRdUfD"
      },
      "execution_count": null,
      "outputs": []
    },
    {
      "cell_type": "code",
      "source": [
        ""
      ],
      "metadata": {
        "id": "wktxRpusdUhp"
      },
      "execution_count": null,
      "outputs": []
    }
  ]
}