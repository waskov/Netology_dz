{
  "nbformat": 4,
  "nbformat_minor": 0,
  "metadata": {
    "colab": {
      "name": "DZ_4.ipynb",
      "provenance": [],
      "collapsed_sections": [],
      "authorship_tag": "ABX9TyMVQjFsT6NA/en0Q2Xz1pdC"
    },
    "kernelspec": {
      "name": "python3",
      "display_name": "Python 3"
    },
    "language_info": {
      "name": "python"
    }
  },
  "cells": [
    {
      "cell_type": "code",
      "execution_count": null,
      "metadata": {
        "id": "Vbdfk4teZexO"
      },
      "outputs": [],
      "source": [
        "# задание 1\n",
        "\n",
        "documents = [\n",
        "{'type': 'passport', 'number': '2207 876234', 'name': 'Василий Гупкин'},\n",
        "{'type': 'invoice', 'number': '11-2', 'name': 'Геннадий Покемонов'},\n",
        "{'type': 'insurance', 'number': '10006', 'name': 'Аристарх Павлов'}]\n",
        "\n",
        "directories = {\n",
        "'1': ['2207 876234', '11-2'],\n",
        "'2': ['10006'],\n",
        "'3': []\n",
        "}"
      ]
    },
    {
      "cell_type": "code",
      "source": [
        "# запрос номера документа\n",
        "def ask_doc_number():\n",
        "  number = input('Введите номер документа:')\n",
        "  return number\n",
        "\n",
        "# запрос номера полки\n",
        "def ask_number_place():\n",
        "  number_place = input('Введите номер полки:')\n",
        "  return number_place\n",
        "\n",
        "# вывод владельца по номеру документа\n",
        "def person(number):\n",
        "  name = '***'\n",
        "  for i in documents:\n",
        "    if i['number'] == number:\n",
        "      name = i['name']\n",
        "      print(f'Владелец документа: {name}')\n",
        "  if name == '***':\n",
        "    print('Документ не найден в базе')\n",
        "\n",
        "# поиск номера полки по номеру документа\n",
        "def store_number(number):\n",
        "  store_num = 'none'\n",
        "  for key, value in directories.items():\n",
        "    if number in value:\n",
        "      store_num = key\n",
        "  return store_num\n",
        "\n",
        "# запрос полного инфо\n",
        "def all_info():\n",
        "  for element in documents:\n",
        "    number_of_element = element['number']\n",
        "    name_of_element = element['name']\n",
        "    type_of_element = element['type']\n",
        "    store_num = store_number(number_of_element)\n",
        "    print(f'№ {number_of_element}, тип: {name_of_element}, владелец: {type_of_element}, полка хранения: {store_num}')\n",
        "\n",
        "# добавить полку\n",
        "def add_store(number_place):\n",
        "  if number_place in directories.keys():\n",
        "    store_now = now_store_counter(directories)\n",
        "    print(f'Такая полка уже существует. Текущий перечень полок: {store_now}.')\n",
        "  else:\n",
        "    directories[number_place] = []\n",
        "    store_now = now_store_counter(directories)\n",
        "    print(f'Полка добавлена. Текущий перечень полок: {store_now}.')\n",
        "\n",
        "# удаление полки\n",
        "def del_store(number_place):\n",
        "  if number_place in directories.keys():\n",
        "    if len(directories[number_place]) == 0:\n",
        "      directories.pop(number_place)\n",
        "      store_now = now_store_counter(directories)\n",
        "      print(f'Полка удалена. Текущий перечень полок: {store_now}.')\n",
        "    else:\n",
        "      store_now = now_store_counter(directories)\n",
        "      print(f'На полке есть документа, удалите их перед удалением полки. Текущий перечень полок: {store_now}.')\n",
        "  else:\n",
        "    store_now = now_store_counter(directories)\n",
        "    print(f'Такой полки не существует. Текущий перечень полок: {store_now}.')\n",
        "\n",
        "# отображение директорий \n",
        "def now_store_counter(directories):\n",
        "  store_now = str(sorted(list(map(lambda x: int(x), set(directories.keys())))))[1:-1]\n",
        "  return store_now\n",
        "\n",
        "\n",
        "\n",
        "\n",
        "text = ''\n",
        "while text != 'q':\n",
        "  text = input('Введите команду:')\n",
        "  if text == 'p':\n",
        "    person(ask_doc_number())\n",
        "\n",
        "  elif text == 's':\n",
        "    store_num = store_number(ask_doc_number())\n",
        "    if store_num != 'none':\n",
        "      print(f'Документ хранится на полке: {store_num}')\n",
        "    else:\n",
        "      print('Документ не найден в базе')\n",
        "\n",
        "  elif text == 'l':\n",
        "    all_info()\n",
        "\n",
        "  elif text == 'ads':\n",
        "    add_store(ask_number_place())\n",
        "\n",
        "  elif text == 'ds':\n",
        "    del_store(ask_number_place())"
      ],
      "metadata": {
        "colab": {
          "base_uri": "https://localhost:8080/"
        },
        "id": "85zoFuABZjW8",
        "outputId": "3a8d3d62-bd81-4a29-c71c-9fcfaaf90c56"
      },
      "execution_count": null,
      "outputs": [
        {
          "name": "stdout",
          "output_type": "stream",
          "text": [
            "Введите команду:ads\n",
            "Введите номер полки:12\n",
            "Полка добавлена. Текущий перечень полок: 1, 2, 3, 4, 12.\n",
            "Введите команду:ads\n",
            "Введите номер полки:2\n",
            "Такая полка уже существует. Текущий перечень полок: 1, 2, 3, 4, 12.\n",
            "Введите команду:ds\n",
            "Введите номер полки:1\n",
            "На полке есть документа, удалите их перед удалением полки. Текущий перечень полок: 1, 2, 3, 4, 12.\n",
            "Введите команду:ds\n",
            "Введите номер полки:3\n",
            "Полка удалена. Текущий перечень полок: 1, 2, 4, 12.\n",
            "Введите команду:ds\n",
            "Введите номер полки:323\n",
            "Такой полки не существует. Текущий перечень полок: 1, 2, 4, 12.\n",
            "Введите команду:l\n",
            "№ 2207 876234, тип: Василий Гупкин, владелец: passport, полка хранения: 1\n",
            "№ 11-2, тип: Геннадий Покемонов, владелец: invoice, полка хранения: 1\n",
            "№ 10006, тип: Аристарх Павлов, владелец: insurance, полка хранения: 2\n",
            "Введите команду:s\n",
            "Введите номер документа:10006\n",
            "Документ хранится на полке: 2\n",
            "Введите команду:p\n",
            "Введите номер документа:10006\n",
            "Владелец документа: Аристарх Павлов\n",
            "Введите команду:q\n"
          ]
        }
      ]
    },
    {
      "cell_type": "code",
      "source": [
        ""
      ],
      "metadata": {
        "id": "Gf6JkxmgqYBa"
      },
      "execution_count": null,
      "outputs": []
    },
    {
      "cell_type": "code",
      "source": [
        "\n"
      ],
      "metadata": {
        "id": "AqJf-pC7ZjZX"
      },
      "execution_count": null,
      "outputs": []
    },
    {
      "cell_type": "code",
      "source": [
        ""
      ],
      "metadata": {
        "id": "TyR7Ypv5ZjcC"
      },
      "execution_count": null,
      "outputs": []
    },
    {
      "cell_type": "code",
      "source": [
        ""
      ],
      "metadata": {
        "id": "TK5MHhZNZjeq"
      },
      "execution_count": null,
      "outputs": []
    },
    {
      "cell_type": "code",
      "source": [
        ""
      ],
      "metadata": {
        "id": "qqJftTiTZjhP"
      },
      "execution_count": null,
      "outputs": []
    },
    {
      "cell_type": "code",
      "source": [
        ""
      ],
      "metadata": {
        "id": "SrshvUDiZjjv"
      },
      "execution_count": null,
      "outputs": []
    },
    {
      "cell_type": "code",
      "source": [
        ""
      ],
      "metadata": {
        "id": "3hQpyAFWZjmL"
      },
      "execution_count": null,
      "outputs": []
    }
  ]
}