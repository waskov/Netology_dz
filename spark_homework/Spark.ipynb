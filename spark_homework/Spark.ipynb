{
  "nbformat": 4,
  "nbformat_minor": 0,
  "metadata": {
    "colab": {
      "name": "Spark.ipynb",
      "provenance": [],
      "collapsed_sections": []
    },
    "kernelspec": {
      "name": "python3",
      "display_name": "Python 3"
    },
    "language_info": {
      "name": "python"
    }
  },
  "cells": [
    {
      "cell_type": "code",
      "execution_count": 1,
      "metadata": {
        "colab": {
          "base_uri": "https://localhost:8080/"
        },
        "id": "agWZcm49hmI4",
        "outputId": "d351e474-5bdc-40d4-e568-8b343d37a375"
      },
      "outputs": [
        {
          "output_type": "stream",
          "name": "stdout",
          "text": [
            "Collecting pyspark==3.0.1\n",
            "  Downloading pyspark-3.0.1.tar.gz (204.2 MB)\n",
            "\u001b[K     |████████████████████████████████| 204.2 MB 36 kB/s \n",
            "\u001b[?25hCollecting py4j==0.10.9\n",
            "  Downloading py4j-0.10.9-py2.py3-none-any.whl (198 kB)\n",
            "\u001b[K     |████████████████████████████████| 198 kB 46.4 MB/s \n",
            "\u001b[?25hBuilding wheels for collected packages: pyspark\n",
            "  Building wheel for pyspark (setup.py) ... \u001b[?25l\u001b[?25hdone\n",
            "  Created wheel for pyspark: filename=pyspark-3.0.1-py2.py3-none-any.whl size=204612243 sha256=5841236c86338bc9fed7e284249e31ec4b833330f2dd64fa4b59633d98b92b1d\n",
            "  Stored in directory: /root/.cache/pip/wheels/5e/34/fa/b37b5cef503fc5148b478b2495043ba61b079120b7ff379f9b\n",
            "Successfully built pyspark\n",
            "Installing collected packages: py4j, pyspark\n",
            "Successfully installed py4j-0.10.9 pyspark-3.0.1\n"
          ]
        }
      ],
      "source": [
        "!pip install pyspark==3.0.1 py4j==0.10.9"
      ]
    },
    {
      "cell_type": "code",
      "source": [
        "from pyspark.sql import SparkSession\n",
        "from pyspark.sql import functions as f\n",
        "spark = SparkSession.builder\\\n",
        "        .master(\"local[*]\")\\\n",
        "        .appName('Home_work_spark')\\\n",
        "        .getOrCreate()\n",
        "spark"
      ],
      "metadata": {
        "id": "dkSGHLjghqTo",
        "colab": {
          "base_uri": "https://localhost:8080/",
          "height": 219
        },
        "outputId": "37af4396-3a0b-46de-91fb-b57f44a4fd87"
      },
      "execution_count": 2,
      "outputs": [
        {
          "output_type": "execute_result",
          "data": {
            "text/plain": [
              "<pyspark.sql.session.SparkSession at 0x7ffb33e8cb10>"
            ],
            "text/html": [
              "\n",
              "            <div>\n",
              "                <p><b>SparkSession - in-memory</b></p>\n",
              "                \n",
              "        <div>\n",
              "            <p><b>SparkContext</b></p>\n",
              "\n",
              "            <p><a href=\"http://64c583dd31a0:4040\">Spark UI</a></p>\n",
              "\n",
              "            <dl>\n",
              "              <dt>Version</dt>\n",
              "                <dd><code>v3.0.1</code></dd>\n",
              "              <dt>Master</dt>\n",
              "                <dd><code>local[*]</code></dd>\n",
              "              <dt>AppName</dt>\n",
              "                <dd><code>Home_work_spark</code></dd>\n",
              "            </dl>\n",
              "        </div>\n",
              "        \n",
              "            </div>\n",
              "        "
            ]
          },
          "metadata": {},
          "execution_count": 2
        }
      ]
    },
    {
      "cell_type": "code",
      "source": [
        "df = spark.read.csv('owid-covid-data.csv', header = True)\n",
        "df.show(1)\n"
      ],
      "metadata": {
        "id": "7Dr2lBo3hqZF",
        "colab": {
          "base_uri": "https://localhost:8080/"
        },
        "outputId": "0a63d008-f269-4bfd-a49e-51676f8cd211"
      },
      "execution_count": 3,
      "outputs": [
        {
          "output_type": "stream",
          "name": "stdout",
          "text": [
            "+--------+---------+-----------+----------+-----------+---------+------------------+------------+----------+-------------------+-----------------------+---------------------+------------------------------+------------------------+----------------------+-------------------------------+-----------------+------------+------------------------+-------------+-------------------------+---------------------+---------------------------------+----------------------+----------------------------------+---------+-----------+------------------------+----------------------+------------------+-------------------------------+-------------+--------------+-----------+------------------+-----------------+-----------------------+----------------+-------------------------+------------------------------+-----------------------------+-----------------------------------+-------------------------------------+----------------+----------+------------------+----------+-------------+-------------+--------------+---------------+---------------------+-------------------+--------------+------------+----------------------+--------------------------+---------------+-----------------------+\n",
            "|iso_code|continent|   location|      date|total_cases|new_cases|new_cases_smoothed|total_deaths|new_deaths|new_deaths_smoothed|total_cases_per_million|new_cases_per_million|new_cases_smoothed_per_million|total_deaths_per_million|new_deaths_per_million|new_deaths_smoothed_per_million|reproduction_rate|icu_patients|icu_patients_per_million|hosp_patients|hosp_patients_per_million|weekly_icu_admissions|weekly_icu_admissions_per_million|weekly_hosp_admissions|weekly_hosp_admissions_per_million|new_tests|total_tests|total_tests_per_thousand|new_tests_per_thousand|new_tests_smoothed|new_tests_smoothed_per_thousand|positive_rate|tests_per_case|tests_units|total_vaccinations|people_vaccinated|people_fully_vaccinated|new_vaccinations|new_vaccinations_smoothed|total_vaccinations_per_hundred|people_vaccinated_per_hundred|people_fully_vaccinated_per_hundred|new_vaccinations_smoothed_per_million|stringency_index|population|population_density|median_age|aged_65_older|aged_70_older|gdp_per_capita|extreme_poverty|cardiovasc_death_rate|diabetes_prevalence|female_smokers|male_smokers|handwashing_facilities|hospital_beds_per_thousand|life_expectancy|human_development_index|\n",
            "+--------+---------+-----------+----------+-----------+---------+------------------+------------+----------+-------------------+-----------------------+---------------------+------------------------------+------------------------+----------------------+-------------------------------+-----------------+------------+------------------------+-------------+-------------------------+---------------------+---------------------------------+----------------------+----------------------------------+---------+-----------+------------------------+----------------------+------------------+-------------------------------+-------------+--------------+-----------+------------------+-----------------+-----------------------+----------------+-------------------------+------------------------------+-----------------------------+-----------------------------------+-------------------------------------+----------------+----------+------------------+----------+-------------+-------------+--------------+---------------+---------------------+-------------------+--------------+------------+----------------------+--------------------------+---------------+-----------------------+\n",
            "|     AFG|     Asia|Afghanistan|2020-02-24|        1.0|      1.0|              null|        null|      null|               null|                  0.026|                0.026|                          null|                    null|                  null|                           null|             null|        null|                    null|         null|                     null|                 null|                             null|                  null|                              null|     null|       null|                    null|                  null|              null|                           null|         null|          null|       null|              null|             null|                   null|            null|                     null|                          null|                         null|                               null|                                 null|            8.33|38928341.0|            54.422|      18.6|        2.581|        1.337|      1803.987|           null|              597.029|               9.59|          null|        null|                37.746|                       0.5|          64.83|                  0.511|\n",
            "+--------+---------+-----------+----------+-----------+---------+------------------+------------+----------+-------------------+-----------------------+---------------------+------------------------------+------------------------+----------------------+-------------------------------+-----------------+------------+------------------------+-------------+-------------------------+---------------------+---------------------------------+----------------------+----------------------------------+---------+-----------+------------------------+----------------------+------------------+-------------------------------+-------------+--------------+-----------+------------------+-----------------+-----------------------+----------------+-------------------------+------------------------------+-----------------------------+-----------------------------------+-------------------------------------+----------------+----------+------------------+----------+-------------+-------------+--------------+---------------+---------------------+-------------------+--------------+------------+----------------------+--------------------------+---------------+-----------------------+\n",
            "only showing top 1 row\n",
            "\n"
          ]
        }
      ]
    },
    {
      "cell_type": "code",
      "source": [
        "#Выберите 15 стран с наибольшим процентом переболевших на 31 марта (в выходящем датасете необходимы колонки: iso_code, страна, процент переболевших)\n",
        "\n",
        "# вижу что есть какие-то WORLD и тд, фильтрую на 3 строке коды, т к страны состоят из 3 букв\n",
        "\n",
        "df.filter(f.col('date') == '2021-03-31').\\\n",
        "  filter(f.length(f.col('iso_code')) == 3).\\\n",
        "  select('iso_code','total_cases','location','population').\\\n",
        "  withColumn('persent', \n",
        "             df.total_cases / df.population * 100).\\\n",
        "  sort(f.col('persent').desc()).\\\n",
        "  select('iso_code','total_cases','persent').limit(15).show()\n",
        "  \n",
        "  #.repartition(1).write.csv(\"task1.1\", header = True)\n"
      ],
      "metadata": {
        "colab": {
          "base_uri": "https://localhost:8080/"
        },
        "id": "C45Ps5xFi7lu",
        "outputId": "60b97aac-57ac-465d-bcd7-eed6ea2e133a"
      },
      "execution_count": 71,
      "outputs": [
        {
          "output_type": "stream",
          "name": "stdout",
          "text": [
            "+--------+-----------+------------------+\n",
            "|iso_code|total_cases|           persent|\n",
            "+--------+-----------+------------------+\n",
            "|     AND|    12010.0|15.543907331909661|\n",
            "|     MNE|    91218.0|14.523725364693293|\n",
            "|     CZE|  1532332.0|14.308848404077997|\n",
            "|     SMR|     4730.0|13.937179562732041|\n",
            "|     SVN|   215602.0|10.370805779121204|\n",
            "|     LUX|    61642.0| 9.847342390123583|\n",
            "|     ISR|   833105.0| 9.625106044786802|\n",
            "|     USA| 30462210.0| 9.203010995860707|\n",
            "|     SRB|   600596.0| 8.826328557933492|\n",
            "|     BHR|   144445.0| 8.488860079114566|\n",
            "|     PAN|   355051.0| 8.228739065460761|\n",
            "|     PRT|   821722.0| 8.058699735120369|\n",
            "|     EST|   106424.0| 8.022681579659551|\n",
            "|     SWE|   804886.0| 7.969744347858805|\n",
            "|     LTU|   216119.0| 7.938864728274825|\n",
            "+--------+-----------+------------------+\n",
            "\n"
          ]
        }
      ]
    },
    {
      "cell_type": "code",
      "source": [
        "#Top 10 стран с максимальным зафиксированным кол-вом новых случаев за последнюю неделю марта 2021 в отсортированном порядке по убыванию\n",
        "#(в выходящем датасете необходимы колонки: число, страна, кол-во новых случаев)\n",
        "\n",
        "\n",
        "# фильтрую по датам, фильтрую чтобы были только страны с кодом в 3 символа, нахожу max в каждой локации за неделю\n",
        "# беру первые 10 стран из топа, джоин чтобы получить все строки для каждой из этих стран \n",
        "\n",
        "gff = df.filter('date between \"2021-03-24\" and \"2021-03-31\"' or f.length(f.col('iso_code')) == 3)\n",
        "gff.\\\n",
        "groupBy('location').agg(f.max(\"new_cases\").alias(\"new_cases\")).\\\n",
        "sort(f.col('new_cases').desc()).\\\n",
        "limit(10).select('location','new_cases').\\\n",
        "join(gff, on = ['location', 'new_cases']).\\\n",
        "orderBy(f.col(\"new_cases\").cast('int')).\\\n",
        "select('date','location','new_cases').show()\n",
        "\n",
        "#.repartition(1).write.csv(\"task1.2\", header = True)\n"
      ],
      "metadata": {
        "id": "saLPSdN2kXAZ",
        "colab": {
          "base_uri": "https://localhost:8080/"
        },
        "outputId": "44d694db-f3c9-424c-8eda-c4180e62efb5"
      },
      "execution_count": 69,
      "outputs": [
        {
          "output_type": "stream",
          "name": "stdout",
          "text": [
            "+----------+-----------+---------+\n",
            "|      date|   location|new_cases|\n",
            "+----------+-----------+---------+\n",
            "|2021-03-26|     Rwanda|     99.0|\n",
            "|2021-03-26|    Senegal|     99.0|\n",
            "|2021-03-28|   Bulgaria|    983.0|\n",
            "|2021-03-29|     Norway|    989.0|\n",
            "|2021-03-28|  Venezuela|    992.0|\n",
            "|2021-03-31|    Bolivia|    992.0|\n",
            "|2021-03-30|    Belarus|    995.0|\n",
            "|2021-03-25|  Guatemala|    999.0|\n",
            "|2021-03-26|Philippines|   9808.0|\n",
            "|2021-03-30|     Serbia|   9983.0|\n",
            "+----------+-----------+---------+\n",
            "\n"
          ]
        }
      ]
    },
    {
      "cell_type": "code",
      "source": [
        "#Посчитайте изменение случаев относительно предыдущего дня в России за последнюю неделю марта 2021. \n",
        "#(например: в россии вчера было 9150 , сегодня 8763, итог: -387) \n",
        "#(в выходящем датасете необходимы колонки: число, кол-во новых случаев вчера, кол-во новых случаев сегодня, дельта)\n",
        "from pyspark.sql import Window\n",
        "\n",
        "df.filter('iso_code = \"RUS\"').filter('date between \"2021-03-24\" and \"2021-03-31\"').\\\n",
        "withColumn('before', f.lag(f.col('new_cases')).over(Window.orderBy('date'))).\\\n",
        "withColumn('diff', f.col('new_cases') - f.col ('before')).\\\n",
        "select('date','before','new_cases','diff').\\\n",
        "orderBy('date').show()\n",
        "\n",
        "#.repartition(1).write.csv(\"task1.3\", header = True)"
      ],
      "metadata": {
        "id": "VA0Q0WH3joh9",
        "colab": {
          "base_uri": "https://localhost:8080/"
        },
        "outputId": "e197d2b7-1428-472c-ab84-445d23720882"
      },
      "execution_count": 67,
      "outputs": [
        {
          "output_type": "stream",
          "name": "stdout",
          "text": [
            "+----------+------+---------+------+\n",
            "|      date|before|new_cases|  diff|\n",
            "+----------+------+---------+------+\n",
            "|2021-03-24|  null|   8769.0|  null|\n",
            "|2021-03-25|8769.0|   9128.0| 359.0|\n",
            "|2021-03-26|9128.0|   9073.0| -55.0|\n",
            "|2021-03-27|9073.0|   8783.0|-290.0|\n",
            "|2021-03-28|8783.0|   8979.0| 196.0|\n",
            "|2021-03-29|8979.0|   8589.0|-390.0|\n",
            "|2021-03-30|8589.0|   8162.0|-427.0|\n",
            "|2021-03-31|8162.0|   8156.0|  -6.0|\n",
            "+----------+------+---------+------+\n",
            "\n"
          ]
        }
      ]
    },
    {
      "cell_type": "code",
      "source": [
        ""
      ],
      "metadata": {
        "id": "1mc4qgpMOCWZ"
      },
      "execution_count": null,
      "outputs": []
    }
  ]
}