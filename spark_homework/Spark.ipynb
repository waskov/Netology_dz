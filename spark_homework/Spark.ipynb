{
  "nbformat": 4,
  "nbformat_minor": 0,
  "metadata": {
    "colab": {
      "name": "Spark.ipynb",
      "provenance": [],
      "collapsed_sections": []
    },
    "kernelspec": {
      "name": "python3",
      "display_name": "Python 3"
    },
    "language_info": {
      "name": "python"
    }
  },
  "cells": [
    {
      "cell_type": "code",
      "execution_count": 1,
      "metadata": {
        "colab": {
          "base_uri": "https://localhost:8080/"
        },
        "id": "agWZcm49hmI4",
        "outputId": "07f1f0ff-b57d-4be7-a54f-5313ab84181a"
      },
      "outputs": [
        {
          "output_type": "stream",
          "name": "stdout",
          "text": [
            "Collecting pyspark==3.0.1\n",
            "  Downloading pyspark-3.0.1.tar.gz (204.2 MB)\n",
            "\u001b[K     |████████████████████████████████| 204.2 MB 27 kB/s \n",
            "\u001b[?25hCollecting py4j==0.10.9\n",
            "  Downloading py4j-0.10.9-py2.py3-none-any.whl (198 kB)\n",
            "\u001b[K     |████████████████████████████████| 198 kB 51.8 MB/s \n",
            "\u001b[?25hBuilding wheels for collected packages: pyspark\n",
            "  Building wheel for pyspark (setup.py) ... \u001b[?25l\u001b[?25hdone\n",
            "  Created wheel for pyspark: filename=pyspark-3.0.1-py2.py3-none-any.whl size=204612243 sha256=1d9929340e6e9ef10839258259f47264d439ef0fc8fd07d5ecfcc031729dc2f0\n",
            "  Stored in directory: /root/.cache/pip/wheels/5e/34/fa/b37b5cef503fc5148b478b2495043ba61b079120b7ff379f9b\n",
            "Successfully built pyspark\n",
            "Installing collected packages: py4j, pyspark\n",
            "Successfully installed py4j-0.10.9 pyspark-3.0.1\n"
          ]
        }
      ],
      "source": [
        "!pip install pyspark==3.0.1 py4j==0.10.9"
      ]
    },
    {
      "cell_type": "code",
      "source": [
        "from pyspark.sql import SparkSession\n",
        "from pyspark.sql import functions as f\n",
        "spark = SparkSession.builder\\\n",
        "        .master(\"local[*]\")\\\n",
        "        .appName('Home_work_spark')\\\n",
        "        .getOrCreate()\n",
        "spark"
      ],
      "metadata": {
        "id": "dkSGHLjghqTo",
        "colab": {
          "base_uri": "https://localhost:8080/",
          "height": 219
        },
        "outputId": "e3c461dc-77e0-41e2-eb2c-8789cfe17236"
      },
      "execution_count": 84,
      "outputs": [
        {
          "output_type": "execute_result",
          "data": {
            "text/plain": [
              "<pyspark.sql.session.SparkSession at 0x7f97307cef50>"
            ],
            "text/html": [
              "\n",
              "            <div>\n",
              "                <p><b>SparkSession - in-memory</b></p>\n",
              "                \n",
              "        <div>\n",
              "            <p><b>SparkContext</b></p>\n",
              "\n",
              "            <p><a href=\"http://fd4c6f7f60e9:4040\">Spark UI</a></p>\n",
              "\n",
              "            <dl>\n",
              "              <dt>Version</dt>\n",
              "                <dd><code>v3.0.1</code></dd>\n",
              "              <dt>Master</dt>\n",
              "                <dd><code>local[*]</code></dd>\n",
              "              <dt>AppName</dt>\n",
              "                <dd><code>PySpark_Tutorial</code></dd>\n",
              "            </dl>\n",
              "        </div>\n",
              "        \n",
              "            </div>\n",
              "        "
            ]
          },
          "metadata": {},
          "execution_count": 84
        }
      ]
    },
    {
      "cell_type": "code",
      "source": [
        "df = spark.read.csv('owid-covid-data.csv', header = True)\n",
        "df.show(1)\n"
      ],
      "metadata": {
        "id": "7Dr2lBo3hqZF",
        "colab": {
          "base_uri": "https://localhost:8080/"
        },
        "outputId": "123aee4f-8990-45e2-c101-747dcbd129e6"
      },
      "execution_count": 83,
      "outputs": [
        {
          "output_type": "stream",
          "name": "stdout",
          "text": [
            "+--------+---------+-----------+----------+-----------+---------+------------------+------------+----------+-------------------+-----------------------+---------------------+------------------------------+------------------------+----------------------+-------------------------------+-----------------+------------+------------------------+-------------+-------------------------+---------------------+---------------------------------+----------------------+----------------------------------+---------+-----------+------------------------+----------------------+------------------+-------------------------------+-------------+--------------+-----------+------------------+-----------------+-----------------------+----------------+-------------------------+------------------------------+-----------------------------+-----------------------------------+-------------------------------------+----------------+----------+------------------+----------+-------------+-------------+--------------+---------------+---------------------+-------------------+--------------+------------+----------------------+--------------------------+---------------+-----------------------+\n",
            "|iso_code|continent|   location|      date|total_cases|new_cases|new_cases_smoothed|total_deaths|new_deaths|new_deaths_smoothed|total_cases_per_million|new_cases_per_million|new_cases_smoothed_per_million|total_deaths_per_million|new_deaths_per_million|new_deaths_smoothed_per_million|reproduction_rate|icu_patients|icu_patients_per_million|hosp_patients|hosp_patients_per_million|weekly_icu_admissions|weekly_icu_admissions_per_million|weekly_hosp_admissions|weekly_hosp_admissions_per_million|new_tests|total_tests|total_tests_per_thousand|new_tests_per_thousand|new_tests_smoothed|new_tests_smoothed_per_thousand|positive_rate|tests_per_case|tests_units|total_vaccinations|people_vaccinated|people_fully_vaccinated|new_vaccinations|new_vaccinations_smoothed|total_vaccinations_per_hundred|people_vaccinated_per_hundred|people_fully_vaccinated_per_hundred|new_vaccinations_smoothed_per_million|stringency_index|population|population_density|median_age|aged_65_older|aged_70_older|gdp_per_capita|extreme_poverty|cardiovasc_death_rate|diabetes_prevalence|female_smokers|male_smokers|handwashing_facilities|hospital_beds_per_thousand|life_expectancy|human_development_index|\n",
            "+--------+---------+-----------+----------+-----------+---------+------------------+------------+----------+-------------------+-----------------------+---------------------+------------------------------+------------------------+----------------------+-------------------------------+-----------------+------------+------------------------+-------------+-------------------------+---------------------+---------------------------------+----------------------+----------------------------------+---------+-----------+------------------------+----------------------+------------------+-------------------------------+-------------+--------------+-----------+------------------+-----------------+-----------------------+----------------+-------------------------+------------------------------+-----------------------------+-----------------------------------+-------------------------------------+----------------+----------+------------------+----------+-------------+-------------+--------------+---------------+---------------------+-------------------+--------------+------------+----------------------+--------------------------+---------------+-----------------------+\n",
            "|     AFG|     Asia|Afghanistan|2020-02-24|        1.0|      1.0|              null|        null|      null|               null|                  0.026|                0.026|                          null|                    null|                  null|                           null|             null|        null|                    null|         null|                     null|                 null|                             null|                  null|                              null|     null|       null|                    null|                  null|              null|                           null|         null|          null|       null|              null|             null|                   null|            null|                     null|                          null|                         null|                               null|                                 null|            8.33|38928341.0|            54.422|      18.6|        2.581|        1.337|      1803.987|           null|              597.029|               9.59|          null|        null|                37.746|                       0.5|          64.83|                  0.511|\n",
            "+--------+---------+-----------+----------+-----------+---------+------------------+------------+----------+-------------------+-----------------------+---------------------+------------------------------+------------------------+----------------------+-------------------------------+-----------------+------------+------------------------+-------------+-------------------------+---------------------+---------------------------------+----------------------+----------------------------------+---------+-----------+------------------------+----------------------+------------------+-------------------------------+-------------+--------------+-----------+------------------+-----------------+-----------------------+----------------+-------------------------+------------------------------+-----------------------------+-----------------------------------+-------------------------------------+----------------+----------+------------------+----------+-------------+-------------+--------------+---------------+---------------------+-------------------+--------------+------------+----------------------+--------------------------+---------------+-----------------------+\n",
            "only showing top 1 row\n",
            "\n"
          ]
        }
      ]
    },
    {
      "cell_type": "code",
      "source": [
        "#Выберите 15 стран с наибольшим процентом переболевших на 31 марта (в выходящем датасете необходимы колонки: iso_code, страна, процент переболевших)\n",
        "\n",
        "# вижу что есть какие-то WORLD и тд, фильтрую на 3 строке коды, т к страны состоят из 3 букв\n",
        "\n",
        "df.filter(f.col('date') == '2021-03-31').\\\n",
        "  filter(f.length(f.col('iso_code')) == 3).\\\n",
        "  select('iso_code','total_cases','location').\\\n",
        "  withColumn('persent', \n",
        "             df.filter(f.col('date') == '2021-03-31').total_cases / f.lit(df.filter(f.col('date') == '2021-03-31').agg({'total_cases':'sum'}).collect()[0][0]) * 100).\\\n",
        "  sort(f.col('persent').desc()).\\\n",
        "  select('iso_code','total_cases','persent').limit(15).show()\n",
        "  \n",
        "  #.repartition(1).write.csv(\"task1.1\", header = True)\n"
      ],
      "metadata": {
        "colab": {
          "base_uri": "https://localhost:8080/"
        },
        "id": "C45Ps5xFi7lu",
        "outputId": "ed284e8e-dcbd-4cc7-872e-cac664b726a2"
      },
      "execution_count": 81,
      "outputs": [
        {
          "output_type": "stream",
          "name": "stdout",
          "text": [
            "+--------+-----------+------------------+\n",
            "|iso_code|total_cases|           persent|\n",
            "+--------+-----------+------------------+\n",
            "|     USA| 30462210.0| 7.367302066171039|\n",
            "|     BRA| 12748747.0| 3.083291399875184|\n",
            "|     IND| 12221665.0|2.9558163313348005|\n",
            "|     FRA|  4705068.0|1.1379232563190667|\n",
            "|     RUS|  4494234.0|1.0869329386822602|\n",
            "|     GBR|  4359982.0| 1.054464019421721|\n",
            "|     ITA|  3584899.0|0.8670097740680828|\n",
            "|     TUR|  3317182.0| 0.802262271925293|\n",
            "|     ESP|  3284353.0|0.7943225604096043|\n",
            "|     DEU|  2843644.0|0.6877368489237937|\n",
            "|     COL|  2406377.0| 0.581983587011135|\n",
            "|     ARG|  2348821.0|0.5680636370889022|\n",
            "|     POL|  2321717.0| 0.561508519938784|\n",
            "|     MEX|  2238887.0|0.5414760393623274|\n",
            "|     IRN|  1885564.0|0.4560246795323691|\n",
            "+--------+-----------+------------------+\n",
            "\n"
          ]
        }
      ]
    },
    {
      "cell_type": "code",
      "source": [
        "#Top 10 стран с максимальным зафиксированным кол-вом новых случаев за последнюю неделю марта 2021 в отсортированном порядке по убыванию\n",
        "#(в выходящем датасете необходимы колонки: число, страна, кол-во новых случаев)\n",
        "\n",
        "\n",
        "# фильтрую по датам, фильтрую чтобы были только страны с кодом в 3 символа, нахожу сумму в каждой локации за неделю\n",
        "# беру первые 10 стран из топа, джоин чтобы получить все строки для каждой из этих стран \n",
        "\n",
        "df.filter(f.col('date') >= '2021-03-24').\\\n",
        "filter(f.col('date') <= '2021-03-31').\\\n",
        "filter(f.length(f.col('iso_code')) == 3).\\\n",
        "groupBy('location').agg({'new_cases':'sum'}).\\\n",
        "sort(f.col('sum(new_cases)').desc()).\\\n",
        "limit(10).select('location').\\\n",
        "join(df.filter(f.col('date') >= '2021-03-24').\\\n",
        "filter(f.col('date') <= '2021-03-31').\\\n",
        "filter(f.length(f.col('iso_code')) == 3), on = ['location']).\\\n",
        "orderBy(f.col(\"new_cases\").cast(\"int\")).\\\n",
        "select('date','location','new_cases').show()\n",
        "\n",
        "#.repartition(1).write.csv(\"task1.2\", header = True)\n"
      ],
      "metadata": {
        "id": "saLPSdN2kXAZ",
        "colab": {
          "base_uri": "https://localhost:8080/"
        },
        "outputId": "57c358bc-e8cc-43b1-edb8-ba71803c6589"
      },
      "execution_count": 80,
      "outputs": [
        {
          "output_type": "stream",
          "name": "stdout",
          "text": [
            "+----------+---------+---------+\n",
            "|      date| location|new_cases|\n",
            "+----------+---------+---------+\n",
            "|2021-03-28|  Germany|   1727.0|\n",
            "|2021-03-28|Argentina|   7208.0|\n",
            "|2021-03-25|Argentina|   8238.0|\n",
            "|2021-03-24|Argentina|   8300.0|\n",
            "|2021-03-29|  Ukraine|   8468.0|\n",
            "|2021-03-29|   France|   9110.0|\n",
            "|2021-03-30|Argentina|  10154.0|\n",
            "|2021-03-29|  Germany|  10297.0|\n",
            "|2021-03-27|Argentina|  10338.0|\n",
            "|2021-03-30|  Ukraine|  10648.0|\n",
            "|2021-03-31|  Ukraine|  11345.0|\n",
            "|2021-03-28|  Ukraine|  12041.0|\n",
            "|2021-03-29|    Italy|  12900.0|\n",
            "|2021-03-26|Argentina|  12936.0|\n",
            "|2021-03-29|Argentina|  14014.0|\n",
            "|2021-03-24|  Ukraine|  14266.0|\n",
            "|2021-03-30|    Italy|  16055.0|\n",
            "|2021-03-31|Argentina|  16056.0|\n",
            "|2021-03-25|  Ukraine|  16762.0|\n",
            "|2021-03-29|   Poland|  16973.0|\n",
            "+----------+---------+---------+\n",
            "only showing top 20 rows\n",
            "\n"
          ]
        }
      ]
    },
    {
      "cell_type": "code",
      "source": [
        "#Посчитайте изменение случаев относительно предыдущего дня в России за последнюю неделю марта 2021. \n",
        "#(например: в россии вчера было 9150 , сегодня 8763, итог: -387) \n",
        "#(в выходящем датасете необходимы колонки: число, кол-во новых случаев вчера, кол-во новых случаев сегодня, дельта)\n",
        "from pyspark.sql import Window\n",
        "\n",
        "df.filter('iso_code = \"RUS\"').\\\n",
        "withColumn('before', f.lag(f.col('new_cases')).over(Window.orderBy('date'))).\\\n",
        "withColumn('diff', f.col('new_cases') - f.col ('before')).\\\n",
        "select('date','before','new_cases','diff').\\\n",
        "orderBy('date').show()\n",
        "\n",
        "#.repartition(1).write.csv(\"task1.3\", header = True)"
      ],
      "metadata": {
        "id": "VA0Q0WH3joh9",
        "colab": {
          "base_uri": "https://localhost:8080/"
        },
        "outputId": "36828d51-a492-4a10-c9f4-5384ea367ec0"
      },
      "execution_count": 79,
      "outputs": [
        {
          "output_type": "stream",
          "name": "stdout",
          "text": [
            "+----------+------+---------+----+\n",
            "|      date|before|new_cases|diff|\n",
            "+----------+------+---------+----+\n",
            "|2020-01-31|  null|      2.0|null|\n",
            "|2020-02-01|   2.0|      0.0|-2.0|\n",
            "|2020-02-02|   0.0|      0.0| 0.0|\n",
            "|2020-02-03|   0.0|      0.0| 0.0|\n",
            "|2020-02-04|   0.0|      0.0| 0.0|\n",
            "|2020-02-05|   0.0|      0.0| 0.0|\n",
            "|2020-02-06|   0.0|      0.0| 0.0|\n",
            "|2020-02-07|   0.0|      0.0| 0.0|\n",
            "|2020-02-08|   0.0|      0.0| 0.0|\n",
            "|2020-02-09|   0.0|      0.0| 0.0|\n",
            "|2020-02-10|   0.0|      0.0| 0.0|\n",
            "|2020-02-11|   0.0|      0.0| 0.0|\n",
            "|2020-02-12|   0.0|      0.0| 0.0|\n",
            "|2020-02-13|   0.0|      0.0| 0.0|\n",
            "|2020-02-14|   0.0|      0.0| 0.0|\n",
            "|2020-02-15|   0.0|      0.0| 0.0|\n",
            "|2020-02-16|   0.0|      0.0| 0.0|\n",
            "|2020-02-17|   0.0|      0.0| 0.0|\n",
            "|2020-02-18|   0.0|      0.0| 0.0|\n",
            "|2020-02-19|   0.0|      0.0| 0.0|\n",
            "+----------+------+---------+----+\n",
            "only showing top 20 rows\n",
            "\n"
          ]
        }
      ]
    },
    {
      "cell_type": "code",
      "source": [
        ""
      ],
      "metadata": {
        "id": "1mc4qgpMOCWZ"
      },
      "execution_count": null,
      "outputs": []
    }
  ]
}