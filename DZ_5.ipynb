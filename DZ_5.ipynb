{
 "cells": [
  {
   "cell_type": "code",
   "execution_count": 307,
   "metadata": {},
   "outputs": [],
   "source": [
    "#задание 1\n",
    "#Переведите содержимое файла purchase_log.txt в словарь purchases вида:\n",
    "#{‘1840e0b9d4’: ‘Продукты’, …}\n",
    "import json\n",
    "\n",
    "purchases = {}\n",
    "list_for_append = []\n",
    "users = []\n",
    "with open('C:/Users/belovvs/Downloads/Downloads/purchase_log.txt', 'r', encoding = 'utf-8') as f:\n",
    "    f.readline()\n",
    "    for line in f:\n",
    "        read_string = json.loads(line)\n",
    "        users.append(read_string['user_id'])\n",
    "        \n",
    "        # если ключ уже встречается в словаре, то добавляю в список категорию \n",
    "        if read_string['user_id'] in purchases.keys():\n",
    "            list_for_append = purchases[read_string['user_id']]\n",
    "            list_for_append.append(read_string['category'])\n",
    "            list_for_append = list(set(list_for_append)) # убираю дублика, когда в список добавляется такая же категория\n",
    "            purchases[read_string['user_id']] = list_for_append # получаю словарь юзер:список категорий\n",
    "        \n",
    "        else:\n",
    "            purchases[read_string['user_id']] = [read_string['category']]\n",
    "\n",
    "users = set(users)\n",
    "#purchases"
   ]
  },
  {
   "cell_type": "code",
   "execution_count": 226,
   "metadata": {},
   "outputs": [
    {
     "data": {
      "text/plain": [
       "382"
      ]
     },
     "execution_count": 226,
     "metadata": {},
     "output_type": "execute_result"
    }
   ],
   "source": [
    "len(list(filter(lambda x: len(x)>1, purchases.values()))) # количество юзеров с несколькими УНИКАЛЬНЫМИ категориями"
   ]
  },
  {
   "cell_type": "code",
   "execution_count": 309,
   "metadata": {},
   "outputs": [
    {
     "data": {
      "text/plain": [
       "[('c9d93ee37c', ['Электроника', 'Продукты']),\n",
       " ('6cd9581955', ['Электроника', 'Досуг']),\n",
       " ('735284e60a', ['Электроника', 'Бытовая техника']),\n",
       " ('66eb0896dd', ['Электроника', 'Продукты']),\n",
       " ('2b95759653', ['Электроника', 'Досуг'])]"
      ]
     },
     "execution_count": 309,
     "metadata": {},
     "output_type": "execute_result"
    }
   ],
   "source": [
    "list(filter(lambda x: len(x[1])>1, purchases.items())) [0:5] # юзеры с несколькими УНИКАЛЬНЫМИ категориями"
   ]
  },
  {
   "cell_type": "code",
   "execution_count": 228,
   "metadata": {},
   "outputs": [
    {
     "data": {
      "text/plain": [
       "99517"
      ]
     },
     "execution_count": 228,
     "metadata": {},
     "output_type": "execute_result"
    }
   ],
   "source": [
    "len(users)"
   ]
  },
  {
   "cell_type": "code",
   "execution_count": 229,
   "metadata": {},
   "outputs": [
    {
     "data": {
      "text/plain": [
       "99517"
      ]
     },
     "execution_count": 229,
     "metadata": {},
     "output_type": "execute_result"
    }
   ],
   "source": [
    "len(purchases)"
   ]
  },
  {
   "cell_type": "code",
   "execution_count": null,
   "metadata": {},
   "outputs": [],
   "source": [
    "#Для каждого user_id в файле visit_log.csv определите третий столбец с категорией покупки \n",
    "#(если покупка была, сам файл visit_log.csv изменять не надо). Запишите в файл funnel.csv \n",
    "#визиты из файла visit_log.csv, в которых были покупки с указанием категории.\n",
    "\n",
    "#Учтите условия на данные:\n",
    "#содержимое purchase_log.txt помещается в оперативную память компьютера\n",
    "#содержимое visit_log.csv - нет; используйте только построчную обработку этого файла"
   ]
  },
  {
   "cell_type": "code",
   "execution_count": 240,
   "metadata": {},
   "outputs": [
    {
     "data": {
      "text/plain": [
       "13533"
      ]
     },
     "execution_count": 240,
     "metadata": {},
     "output_type": "execute_result"
    }
   ],
   "source": [
    "# посчитаем и выведем количетсво пересечений по юзерам в 2 файлах\n",
    "my_user_list = []\n",
    "with open('C:/Users/belovvs/Downloads/Downloads/visit_log.csv', 'r', encoding = 'utf-8') as f:\n",
    "    f.readline()\n",
    "    for line in f:\n",
    "        read_list = line.strip().split(',')\n",
    "        my_user_list.append(read_list[0])\n",
    "\n",
    "len(set(my_user_list) & users)"
   ]
  },
  {
   "cell_type": "code",
   "execution_count": 299,
   "metadata": {},
   "outputs": [],
   "source": [
    "# Запишем результат\n",
    "\n",
    "with open('C:/Users/belovvs/Downloads/Downloads/visit_log.csv', 'r', encoding = 'utf-8') as f:\n",
    "    with open ('C:/Users/belovvs/Downloads/Downloads/funnel.csv', 'w') as f_write:\n",
    "        f.readline()\n",
    "        for line in f:\n",
    "            read_list = line.strip().split(',')\n",
    "            if read_list[0] in purchases.keys():\n",
    "                category = purchases.get(read_list[0])\n",
    "                if category != None:\n",
    "                    f_write.write(json.dumps(read_list[0] + ',' + read_list[1] + ',' + ';'.join(category)) + '\\n') \n",
    "                \n",
    "\n",
    "\n",
    "        f_write.close()"
   ]
  },
  {
   "cell_type": "code",
   "execution_count": null,
   "metadata": {},
   "outputs": [],
   "source": []
  },
  {
   "cell_type": "code",
   "execution_count": 310,
   "metadata": {},
   "outputs": [
    {
     "data": {
      "text/plain": [
       "[['1840e0b9d4', 'other', 'Продукты'],\n",
       " ['4e4f90fcfb', 'context', 'Электроника'],\n",
       " ['afea8d72fc', 'other', 'Электроника'],\n",
       " ['2824221f38', 'email', 'Продукты'],\n",
       " ['373a6055fe', 'other', 'Бытовая техника']]"
      ]
     },
     "execution_count": 310,
     "metadata": {},
     "output_type": "execute_result"
    }
   ],
   "source": [
    "# Проверю что записал\n",
    "users_from_my = []\n",
    "i=0\n",
    "ds = []\n",
    "with open ('C:/Users/belovvs/Downloads/Downloads/funnel.csv', 'r') as f_write:\n",
    "    f_write.seek(0)\n",
    "    for line in f_write:\n",
    "        dd = json.loads(line).strip().split(',')\n",
    "        users_from_my.append(dd[0])\n",
    "        ds.append(dd)\n",
    "ds[0:5]\n",
    "        "
   ]
  },
  {
   "cell_type": "code",
   "execution_count": 301,
   "metadata": {},
   "outputs": [
    {
     "name": "stdout",
     "output_type": "stream",
     "text": [
      "13798\n",
      "13533\n"
     ]
    }
   ],
   "source": [
    "# количество записей не сходится с количеством уникальных юзеров, получаются юзеры дублируются\n",
    "print(len(users_from_my))\n",
    "print(len(set(users_from_my)))"
   ]
  },
  {
   "cell_type": "code",
   "execution_count": null,
   "metadata": {},
   "outputs": [],
   "source": []
  },
  {
   "cell_type": "code",
   "execution_count": 303,
   "metadata": {},
   "outputs": [
    {
     "data": {
      "text/html": [
       "<div>\n",
       "<style scoped>\n",
       "    .dataframe tbody tr th:only-of-type {\n",
       "        vertical-align: middle;\n",
       "    }\n",
       "\n",
       "    .dataframe tbody tr th {\n",
       "        vertical-align: top;\n",
       "    }\n",
       "\n",
       "    .dataframe thead th {\n",
       "        text-align: right;\n",
       "    }\n",
       "</style>\n",
       "<table border=\"1\" class=\"dataframe\">\n",
       "  <thead>\n",
       "    <tr style=\"text-align: right;\">\n",
       "      <th></th>\n",
       "      <th>0</th>\n",
       "      <th>1</th>\n",
       "      <th>2</th>\n",
       "    </tr>\n",
       "  </thead>\n",
       "  <tbody>\n",
       "    <tr>\n",
       "      <th>339</th>\n",
       "      <td>c9d93ee37c</td>\n",
       "      <td>context</td>\n",
       "      <td>Электроника;Продукты</td>\n",
       "    </tr>\n",
       "  </tbody>\n",
       "</table>\n",
       "</div>"
      ],
      "text/plain": [
       "              0        1                     2\n",
       "339  c9d93ee37c  context  Электроника;Продукты"
      ]
     },
     "execution_count": 303,
     "metadata": {},
     "output_type": "execute_result"
    }
   ],
   "source": [
    "# посмотрим как записались несколько категорий\n",
    "df[df[0] =='c9d93ee37c']"
   ]
  },
  {
   "cell_type": "code",
   "execution_count": 302,
   "metadata": {},
   "outputs": [
    {
     "data": {
      "text/html": [
       "<div>\n",
       "<style scoped>\n",
       "    .dataframe tbody tr th:only-of-type {\n",
       "        vertical-align: middle;\n",
       "    }\n",
       "\n",
       "    .dataframe tbody tr th {\n",
       "        vertical-align: top;\n",
       "    }\n",
       "\n",
       "    .dataframe thead th {\n",
       "        text-align: right;\n",
       "    }\n",
       "</style>\n",
       "<table border=\"1\" class=\"dataframe\">\n",
       "  <thead>\n",
       "    <tr style=\"text-align: right;\">\n",
       "      <th></th>\n",
       "      <th>0</th>\n",
       "      <th>1</th>\n",
       "      <th>2</th>\n",
       "    </tr>\n",
       "  </thead>\n",
       "  <tbody>\n",
       "    <tr>\n",
       "      <th>650</th>\n",
       "      <td>f65310cc74</td>\n",
       "      <td>other</td>\n",
       "      <td>Электроника</td>\n",
       "    </tr>\n",
       "    <tr>\n",
       "      <th>3880</th>\n",
       "      <td>f65310cc74</td>\n",
       "      <td>context</td>\n",
       "      <td>Электроника</td>\n",
       "    </tr>\n",
       "    <tr>\n",
       "      <th>5271</th>\n",
       "      <td>f65310cc74</td>\n",
       "      <td>context</td>\n",
       "      <td>Электроника</td>\n",
       "    </tr>\n",
       "  </tbody>\n",
       "</table>\n",
       "</div>"
      ],
      "text/plain": [
       "               0        1            2\n",
       "650   f65310cc74    other  Электроника\n",
       "3880  f65310cc74  context  Электроника\n",
       "5271  f65310cc74  context  Электроника"
      ]
     },
     "execution_count": 302,
     "metadata": {},
     "output_type": "execute_result"
    }
   ],
   "source": [
    "# найдем дублирующихся юзеров и покажем пример\n",
    "import pandas as pd\n",
    "df = pd.DataFrame(ds)\n",
    "pd.DataFrame(ds).groupby(0).count().reset_index().sort_values(1, ascending=False)\n",
    "\n",
    "df[df[0] =='f65310cc74']"
   ]
  },
  {
   "cell_type": "code",
   "execution_count": 241,
   "metadata": {},
   "outputs": [],
   "source": [
    "# По заданию недоконца понятно, что нужно сделать. Можно было бы объединить source в список."
   ]
  },
  {
   "cell_type": "code",
   "execution_count": null,
   "metadata": {},
   "outputs": [],
   "source": []
  }
 ],
 "metadata": {
  "kernelspec": {
   "display_name": "Python 3",
   "language": "python",
   "name": "python3"
  },
  "language_info": {
   "codemirror_mode": {
    "name": "ipython",
    "version": 3
   },
   "file_extension": ".py",
   "mimetype": "text/x-python",
   "name": "python",
   "nbconvert_exporter": "python",
   "pygments_lexer": "ipython3",
   "version": "3.8.5"
  }
 },
 "nbformat": 4,
 "nbformat_minor": 4
}
